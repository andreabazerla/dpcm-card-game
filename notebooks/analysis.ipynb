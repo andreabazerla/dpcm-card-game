{
 "cells": [
  {
   "cell_type": "markdown",
   "metadata": {},
   "source": [
    "# DPCM Card Game Simulator"
   ]
  },
  {
   "attachments": {},
   "cell_type": "markdown",
   "metadata": {},
   "source": [
    "## Imports"
   ]
  },
  {
   "cell_type": "code",
   "execution_count": 1,
   "metadata": {},
   "outputs": [],
   "source": [
    "import pandas as pd\n",
    "import numpy as np\n",
    "import matplotlib.pyplot as plt\n",
    "from matplotlib.colors import LinearSegmentedColormap\n",
    "import seaborn as sns\n",
    "import ast"
   ]
  },
  {
   "cell_type": "markdown",
   "metadata": {},
   "source": [
    "### Variables"
   ]
  },
  {
   "cell_type": "code",
   "execution_count": 2,
   "metadata": {},
   "outputs": [],
   "source": [
    "purple = '#7f00ff'\n",
    "orange = '#ff4500'"
   ]
  },
  {
   "cell_type": "markdown",
   "metadata": {},
   "source": [
    "### Analysis"
   ]
  },
  {
   "cell_type": "code",
   "execution_count": null,
   "metadata": {},
   "outputs": [],
   "source": [
    "results_df = pd.read_csv('../data/results.csv')"
   ]
  },
  {
   "cell_type": "code",
   "execution_count": null,
   "metadata": {},
   "outputs": [],
   "source": [
    "fig = plt.figure(1, figsize=(15, 7))\n",
    "\n",
    "n, bins, patches = plt.hist(results_df['Turns'], bins=np.arange(0, max(results_df['Turns']), 5), color=purple, edgecolor='w')\n",
    "\n",
    "x = range(max(results_df['Turns']))\n",
    "plt.xticks(np.arange(min(x), max(x)+10, 5))\n",
    "\n",
    "n = list(n)\n",
    "patches[n.index(max(n))].set_fc(orange)\n",
    "\n",
    "plt.xlabel('Turns per Game')\n",
    "plt.ylabel('Number of games')\n",
    "\n",
    "plt.title('Turns Distribution')\n",
    "\n",
    "plt.show()"
   ]
  },
  {
   "cell_type": "code",
   "execution_count": null,
   "metadata": {},
   "outputs": [],
   "source": [
    "fig = plt.figure(1, figsize=(15, 7))\n",
    "\n",
    "not_fair_file = 'not_fair.csv'\n",
    "fair_file = 'fair.csv'\n",
    "\n",
    "not_fair_df = pd.read_csv('../data/' + not_fair_file)\n",
    "fair_df = pd.read_csv('../data/' + fair_file)\n",
    "\n",
    "plt.plot(not_fair_df.index, not_fair_df['Rate'], color = orange, label='Win-Rate not fair')\n",
    "plt.plot(fair_df.index, fair_df['Rate'], color = purple, label='Win-Rate fair')\n",
    "\n",
    "plt.hlines(0.5, 0, len(not_fair_df), colors='black', linestyles='dashed')\n",
    "\n",
    "plt.title('Win Rate with Starting Advantage')\n",
    "\n",
    "plt.legend(loc='lower right')\n",
    "\n",
    "plt.xlabel('Simulations')\n",
    "plt.ylabel('Win Rate')\n",
    "\n",
    "plt.show()"
   ]
  },
  {
   "cell_type": "code",
   "execution_count": null,
   "metadata": {},
   "outputs": [],
   "source": [
    "print(f'{abs(not_fair_df['Rate'].iloc[-1] - fair_df['Rate'].iloc[-1])*100:.2f}%')"
   ]
  },
  {
   "cell_type": "markdown",
   "metadata": {},
   "source": [
    "### Human VS AI"
   ]
  },
  {
   "cell_type": "code",
   "execution_count": null,
   "metadata": {},
   "outputs": [],
   "source": [
    "fig = plt.figure(1, figsize=(15, 7))\n",
    "\n",
    "fair_file = 'fair.csv'\n",
    "fair_df = pd.read_csv('../data/' + fair_file)\n",
    "\n",
    "plt.plot(results_df.index, results_df['Rate'], color = orange, label='AI')\n",
    "plt.plot(fair_df.index, fair_df['Rate'], color = purple, label='Human')\n",
    "\n",
    "plt.hlines(0.5, 0, len(not_fair_df), colors='black', linestyles='dashed')\n",
    "\n",
    "plt.title('Win Rate with Starting Advantage')\n",
    "\n",
    "plt.legend(loc='lower right')\n",
    "\n",
    "plt.xlabel('Simulations')\n",
    "plt.ylabel('Win Rate')\n",
    "\n",
    "plt.show()"
   ]
  },
  {
   "cell_type": "code",
   "execution_count": null,
   "metadata": {},
   "outputs": [],
   "source": [
    "print(f'{abs(results_df['Rate'].iloc[-1] - fair_df['Rate'].iloc[-1])*100:.2f}%')"
   ]
  },
  {
   "cell_type": "markdown",
   "metadata": {},
   "source": [
    "### Visits"
   ]
  },
  {
   "cell_type": "code",
   "execution_count": null,
   "metadata": {},
   "outputs": [],
   "source": [
    "visited_df = pd.read_csv('../data/visited.csv')"
   ]
  },
  {
   "cell_type": "code",
   "execution_count": null,
   "metadata": {},
   "outputs": [],
   "source": [
    "visited_df['MAX'] = visited_df.iloc[:, 1:].max(axis=1)\n",
    "visited_df['HAND'] = visited_df['ID'].apply(lambda x: sum(eval(x)[3:]))"
   ]
  },
  {
   "cell_type": "code",
   "execution_count": null,
   "metadata": {},
   "outputs": [],
   "source": [
    "visited_pivot = visited_df.drop(columns='MAX').iloc[:, 1:].groupby('HAND').sum()\n",
    "visited_pivot = visited_pivot.replace(0, np.NaN)\n",
    "\n",
    "fig, ax = plt.subplots(1, 1, figsize = (15, 12))\n",
    "\n",
    "cmap_custom = LinearSegmentedColormap.from_list('custom', [purple, orange])\n",
    "\n",
    "sns.heatmap(visited_pivot, \n",
    "            fmt='.0f', \n",
    "            linewidth = 0.3, \n",
    "            annot = True,\n",
    "            cbar = True,\n",
    "            cmap=cmap_custom,\n",
    "            square=True)\n",
    "\n",
    "ax.title.set_text('Visits')\n",
    "\n",
    "ax.set(xlabel='Move taken', ylabel='Hand Cards Playable')\n",
    "\n",
    "plt.show()"
   ]
  },
  {
   "cell_type": "markdown",
   "metadata": {},
   "source": [
    "### Exploration"
   ]
  },
  {
   "cell_type": "code",
   "execution_count": null,
   "metadata": {},
   "outputs": [],
   "source": [
    "visits_df = pd.read_csv('../data/visits.csv')"
   ]
  },
  {
   "cell_type": "code",
   "execution_count": null,
   "metadata": {},
   "outputs": [],
   "source": [
    "visits_df.head()"
   ]
  },
  {
   "cell_type": "code",
   "execution_count": null,
   "metadata": {},
   "outputs": [],
   "source": [
    "visits_df['Cumsum'] = visits_df['Visits'].cumsum()"
   ]
  },
  {
   "cell_type": "code",
   "execution_count": null,
   "metadata": {},
   "outputs": [],
   "source": [
    "visits_df.head()"
   ]
  },
  {
   "cell_type": "code",
   "execution_count": null,
   "metadata": {},
   "outputs": [],
   "source": [
    "fig = plt.figure(1, figsize=(10, 10))\n",
    "\n",
    "x = np.linspace(0, max(visits_df.index))\n",
    "y = x\n",
    "\n",
    "plt.plot(visits_df.index, visits_df['Cumsum'], color = orange, label='Coverage')\n",
    "plt.plot(x, y, color = 'black', label='Linear', linestyle='--')\n",
    "\n",
    "plt.title('State/Move Coverage')\n",
    "\n",
    "plt.legend(loc='lower right')\n",
    "\n",
    "plt.xlabel('Turns of games')\n",
    "plt.ylabel('State/Move Pairs Visited')\n",
    "\n",
    "plt.show()"
   ]
  },
  {
   "cell_type": "markdown",
   "metadata": {},
   "source": [
    "### Cards Playable"
   ]
  },
  {
   "cell_type": "code",
   "execution_count": null,
   "metadata": {},
   "outputs": [],
   "source": [
    "visited_df = pd.read_csv('../data/visited.csv')"
   ]
  },
  {
   "cell_type": "code",
   "execution_count": null,
   "metadata": {},
   "outputs": [],
   "source": [
    "visited_df.head()"
   ]
  },
  {
   "cell_type": "code",
   "execution_count": null,
   "metadata": {},
   "outputs": [],
   "source": [
    "visited_df['VISITS'] = visited_df.iloc[:, 1:].max(axis=1)"
   ]
  },
  {
   "cell_type": "code",
   "execution_count": null,
   "metadata": {},
   "outputs": [],
   "source": [
    "visited_filtered_df = visited_df[visited_df['VISITS'] > 0]"
   ]
  },
  {
   "cell_type": "code",
   "execution_count": null,
   "metadata": {},
   "outputs": [],
   "source": [
    "visited_filtered_df.reset_index(drop=True, inplace=True)"
   ]
  },
  {
   "cell_type": "code",
   "execution_count": null,
   "metadata": {},
   "outputs": [],
   "source": [
    "visited_filtered_df.head()"
   ]
  },
  {
   "cell_type": "code",
   "execution_count": null,
   "metadata": {},
   "outputs": [],
   "source": [
    "print(len(visited_df), len(visited_filtered_df), str(round(len(visited_filtered_df)*100/len(visited_df), 2)) + '%')"
   ]
  },
  {
   "cell_type": "code",
   "execution_count": null,
   "metadata": {},
   "outputs": [],
   "source": [
    "state_max_df = visited_filtered_df[['ID', 'VISITS']].copy()"
   ]
  },
  {
   "cell_type": "code",
   "execution_count": null,
   "metadata": {},
   "outputs": [],
   "source": [
    "state_max_df.head()"
   ]
  },
  {
   "cell_type": "code",
   "execution_count": null,
   "metadata": {},
   "outputs": [],
   "source": [
    "state_max_df['ID'] = state_max_df['ID'].apply(ast.literal_eval)"
   ]
  },
  {
   "cell_type": "code",
   "execution_count": null,
   "metadata": {},
   "outputs": [],
   "source": [
    "state_max_df.head()"
   ]
  },
  {
   "cell_type": "code",
   "execution_count": null,
   "metadata": {},
   "outputs": [],
   "source": [
    "state_max_df['HAND'] = state_max_df['ID'].apply(lambda x: x[3:])"
   ]
  },
  {
   "cell_type": "code",
   "execution_count": null,
   "metadata": {},
   "outputs": [],
   "source": [
    "state_max_df.head()"
   ]
  },
  {
   "cell_type": "code",
   "execution_count": null,
   "metadata": {},
   "outputs": [],
   "source": [
    "state_max_df['HAND'] = state_max_df['HAND'].apply(lambda x: sum(x))"
   ]
  },
  {
   "cell_type": "code",
   "execution_count": null,
   "metadata": {},
   "outputs": [],
   "source": [
    "state_max_df.head()"
   ]
  },
  {
   "cell_type": "code",
   "execution_count": null,
   "metadata": {},
   "outputs": [],
   "source": [
    "state_max_df = state_max_df.drop('ID', axis=1)"
   ]
  },
  {
   "cell_type": "code",
   "execution_count": null,
   "metadata": {},
   "outputs": [],
   "source": [
    "state_max_df.head()"
   ]
  },
  {
   "cell_type": "code",
   "execution_count": null,
   "metadata": {},
   "outputs": [],
   "source": [
    "state_max_df = pd.DataFrame(state_max_df.groupby('HAND')['VISITS'].sum())"
   ]
  },
  {
   "cell_type": "code",
   "execution_count": null,
   "metadata": {},
   "outputs": [],
   "source": [
    "state_max_df.reset_index(drop=False, inplace=True)"
   ]
  },
  {
   "cell_type": "code",
   "execution_count": null,
   "metadata": {},
   "outputs": [],
   "source": [
    "state_max_df.head()"
   ]
  },
  {
   "cell_type": "code",
   "execution_count": null,
   "metadata": {},
   "outputs": [],
   "source": [
    "state_max_df['PERCENTAGE'] = round((state_max_df['VISITS'] / state_max_df['VISITS'].sum())*100, 2)"
   ]
  },
  {
   "cell_type": "code",
   "execution_count": null,
   "metadata": {},
   "outputs": [],
   "source": [
    "state_max_df.head()"
   ]
  },
  {
   "cell_type": "code",
   "execution_count": null,
   "metadata": {},
   "outputs": [],
   "source": [
    "state_max_df = state_max_df.drop('VISITS', axis=1)"
   ]
  },
  {
   "cell_type": "code",
   "execution_count": null,
   "metadata": {},
   "outputs": [],
   "source": [
    "state_max_df.head()"
   ]
  },
  {
   "cell_type": "code",
   "execution_count": null,
   "metadata": {},
   "outputs": [],
   "source": [
    "fig = plt.figure(1, figsize=(15, 7))\n",
    "\n",
    "barra_piu_alta = state_max_df.loc[state_max_df['PERCENTAGE'].idxmax()]\n",
    "\n",
    "plt.bar(state_max_df['HAND'], state_max_df['PERCENTAGE'], color=purple, edgecolor='w')\n",
    "plt.bar(barra_piu_alta['HAND'], barra_piu_alta['PERCENTAGE'], color=orange)\n",
    "\n",
    "plt.xticks(state_max_df['HAND'])\n",
    "\n",
    "plt.xlabel('Cards in hand')\n",
    "plt.ylabel('Occurences %')\n",
    "\n",
    "plt.title('Quantity of playable Cards')\n",
    "\n",
    "plt.show()"
   ]
  },
  {
   "cell_type": "markdown",
   "metadata": {},
   "source": [
    "#### Q-Values"
   ]
  },
  {
   "cell_type": "code",
   "execution_count": null,
   "metadata": {},
   "outputs": [],
   "source": [
    "q_df = pd.read_csv('../data/q.csv')"
   ]
  },
  {
   "cell_type": "code",
   "execution_count": null,
   "metadata": {},
   "outputs": [],
   "source": [
    "q_df['MAX'] = q_df.iloc[:, 1:].max(axis=1)"
   ]
  },
  {
   "cell_type": "code",
   "execution_count": null,
   "metadata": {},
   "outputs": [],
   "source": [
    "q_df['HAND'] = q_df['ID'].apply(lambda x: sum(eval(x)[3:]))"
   ]
  },
  {
   "cell_type": "code",
   "execution_count": null,
   "metadata": {},
   "outputs": [],
   "source": [
    "q_curve = q_df.copy()"
   ]
  },
  {
   "cell_type": "code",
   "execution_count": null,
   "metadata": {},
   "outputs": [],
   "source": [
    "q_curve[['HAND', 'MAX']] = q_curve[['HAND', 'MAX']].replace(0, np.NaN)\n",
    "\n",
    "q_mean = pd.Series(q_curve.iloc[:, 1:].groupby('HAND').mean()['MAX'])\n",
    "q_max  = pd.Series(q_curve.iloc[:, 1:].groupby('HAND').max()['MAX'])\n",
    "q_std  = pd.Series(q_curve.iloc[:, 1:].groupby('HAND').std()['MAX']) / 2"
   ]
  },
  {
   "cell_type": "code",
   "execution_count": null,
   "metadata": {},
   "outputs": [],
   "source": [
    "fig = plt.figure(1, figsize=(15,7))\n",
    "\n",
    "plt.plot(q_mean.index, q_mean, label='Mean', marker='o', color=purple)\n",
    "plt.plot(q_max.index,  q_max,  label='Max',  marker='o', color=orange)\n",
    "\n",
    "plt.fill_between(q_mean.index, q_mean - q_std, q_mean + q_std, alpha=1/5, color=purple, edgecolor=None)\n",
    "\n",
    "plt.xticks(q_mean.index)\n",
    "\n",
    "plt.xlabel('Number of Minimum Hand Cards')\n",
    "plt.ylabel('Q-Value')\n",
    "\n",
    "plt.title('Aggregated Q-Values')\n",
    "\n",
    "plt.legend()\n",
    "\n",
    "plt.show()"
   ]
  },
  {
   "cell_type": "code",
   "execution_count": null,
   "metadata": {},
   "outputs": [],
   "source": [
    "q_pivot = q_df.replace(0, np.NaN)\n",
    "q_pivot = q_pivot.drop(columns='MAX').iloc[:, 1:].groupby('HAND').mean()\n",
    "\n",
    "fig, ax = plt.subplots(1, 1, figsize = (15, 12))\n",
    "\n",
    "cmap_custom = LinearSegmentedColormap.from_list('custom', [purple, orange])\n",
    "\n",
    "sns.heatmap(q_pivot, \n",
    "            fmt='.2f', \n",
    "            linewidth = 0.3, \n",
    "            annot = True,\n",
    "            cbar = True,\n",
    "            cmap=cmap_custom,\n",
    "            square=True)\n",
    "\n",
    "ax.title.set_text('Visits')\n",
    "\n",
    "ax.set(xlabel='Move taken', ylabel='Hand Cards Playable')\n",
    "\n",
    "plt.show()"
   ]
  },
  {
   "cell_type": "markdown",
   "metadata": {},
   "source": [
    "### Strategy"
   ]
  },
  {
   "cell_type": "code",
   "execution_count": 154,
   "metadata": {},
   "outputs": [],
   "source": [
    "state_seen_df = pd.read_csv('../data/state_seen.csv')"
   ]
  },
  {
   "cell_type": "code",
   "execution_count": 155,
   "metadata": {},
   "outputs": [
    {
     "data": {
      "text/html": [
       "<div>\n",
       "<style scoped>\n",
       "    .dataframe tbody tr th:only-of-type {\n",
       "        vertical-align: middle;\n",
       "    }\n",
       "\n",
       "    .dataframe tbody tr th {\n",
       "        vertical-align: top;\n",
       "    }\n",
       "\n",
       "    .dataframe thead th {\n",
       "        text-align: right;\n",
       "    }\n",
       "</style>\n",
       "<table border=\"1\" class=\"dataframe\">\n",
       "  <thead>\n",
       "    <tr style=\"text-align: right;\">\n",
       "      <th></th>\n",
       "      <th>Before</th>\n",
       "      <th>After</th>\n",
       "    </tr>\n",
       "  </thead>\n",
       "  <tbody>\n",
       "    <tr>\n",
       "      <th>0</th>\n",
       "      <td>[3, 3, 0, 1, 0, 0, 1, 0, 1, 0, 1, 0, 0, 0, 1, 0]</td>\n",
       "      <td>[3, 3, 0, 1, 0, 0, 1, 0, 1, 0, 0, 0, 0, 0, 1, 0]</td>\n",
       "    </tr>\n",
       "    <tr>\n",
       "      <th>1</th>\n",
       "      <td>[4, 3, 0, 1, 0, 0, 0, 1, 1, 0, 0, 0, 1, 0, 1, 0]</td>\n",
       "      <td>[4, 3, 1, 1, 0, 0, 0, 1, 1, 0, 0, 0, 0, 0, 1, 0]</td>\n",
       "    </tr>\n",
       "    <tr>\n",
       "      <th>2</th>\n",
       "      <td>[4, 3, 0, 1, 0, 0, 0, 1, 1, 0, 0, 0, 0, 0, 1, 0]</td>\n",
       "      <td>[5, 3, 0, 1, 0, 0, 0, 0, 1, 0, 0, 0, 0, 0, 1, 0]</td>\n",
       "    </tr>\n",
       "    <tr>\n",
       "      <th>3</th>\n",
       "      <td>[5, 2, 1, 1, 0, 0, 0, 0, 1, 0, 0, 0, 0, 1, 1, 0]</td>\n",
       "      <td>[5, 2, 1, 1, 0, 0, 0, 0, 1, 0, 1, 0, 0, 1, 1, 0]</td>\n",
       "    </tr>\n",
       "    <tr>\n",
       "      <th>4</th>\n",
       "      <td>[5, 2, 0, 1, 0, 0, 0, 0, 1, 0, 1, 0, 0, 1, 1, 0]</td>\n",
       "      <td>[1, 2, 0, 0, 0, 0, 0, 0, 0, 0, 1, 0, 0, 1, 1, 0]</td>\n",
       "    </tr>\n",
       "  </tbody>\n",
       "</table>\n",
       "</div>"
      ],
      "text/plain": [
       "                                             Before  \\\n",
       "0  [3, 3, 0, 1, 0, 0, 1, 0, 1, 0, 1, 0, 0, 0, 1, 0]   \n",
       "1  [4, 3, 0, 1, 0, 0, 0, 1, 1, 0, 0, 0, 1, 0, 1, 0]   \n",
       "2  [4, 3, 0, 1, 0, 0, 0, 1, 1, 0, 0, 0, 0, 0, 1, 0]   \n",
       "3  [5, 2, 1, 1, 0, 0, 0, 0, 1, 0, 0, 0, 0, 1, 1, 0]   \n",
       "4  [5, 2, 0, 1, 0, 0, 0, 0, 1, 0, 1, 0, 0, 1, 1, 0]   \n",
       "\n",
       "                                              After  \n",
       "0  [3, 3, 0, 1, 0, 0, 1, 0, 1, 0, 0, 0, 0, 0, 1, 0]  \n",
       "1  [4, 3, 1, 1, 0, 0, 0, 1, 1, 0, 0, 0, 0, 0, 1, 0]  \n",
       "2  [5, 3, 0, 1, 0, 0, 0, 0, 1, 0, 0, 0, 0, 0, 1, 0]  \n",
       "3  [5, 2, 1, 1, 0, 0, 0, 0, 1, 0, 1, 0, 0, 1, 1, 0]  \n",
       "4  [1, 2, 0, 0, 0, 0, 0, 0, 0, 0, 1, 0, 0, 1, 1, 0]  "
      ]
     },
     "execution_count": 155,
     "metadata": {},
     "output_type": "execute_result"
    }
   ],
   "source": [
    "state_seen_df.head()"
   ]
  },
  {
   "cell_type": "code",
   "execution_count": 156,
   "metadata": {},
   "outputs": [],
   "source": [
    "state_seen_df['Before'] = state_seen_df['Before'].apply(ast.literal_eval)\n",
    "state_seen_df['After'] = state_seen_df['After'].apply(ast.literal_eval)"
   ]
  },
  {
   "cell_type": "code",
   "execution_count": 157,
   "metadata": {},
   "outputs": [
    {
     "data": {
      "text/html": [
       "<div>\n",
       "<style scoped>\n",
       "    .dataframe tbody tr th:only-of-type {\n",
       "        vertical-align: middle;\n",
       "    }\n",
       "\n",
       "    .dataframe tbody tr th {\n",
       "        vertical-align: top;\n",
       "    }\n",
       "\n",
       "    .dataframe thead th {\n",
       "        text-align: right;\n",
       "    }\n",
       "</style>\n",
       "<table border=\"1\" class=\"dataframe\">\n",
       "  <thead>\n",
       "    <tr style=\"text-align: right;\">\n",
       "      <th></th>\n",
       "      <th>Before</th>\n",
       "      <th>After</th>\n",
       "    </tr>\n",
       "  </thead>\n",
       "  <tbody>\n",
       "    <tr>\n",
       "      <th>0</th>\n",
       "      <td>[3, 3, 0, 1, 0, 0, 1, 0, 1, 0, 1, 0, 0, 0, 1, 0]</td>\n",
       "      <td>[3, 3, 0, 1, 0, 0, 1, 0, 1, 0, 0, 0, 0, 0, 1, 0]</td>\n",
       "    </tr>\n",
       "    <tr>\n",
       "      <th>1</th>\n",
       "      <td>[4, 3, 0, 1, 0, 0, 0, 1, 1, 0, 0, 0, 1, 0, 1, 0]</td>\n",
       "      <td>[4, 3, 1, 1, 0, 0, 0, 1, 1, 0, 0, 0, 0, 0, 1, 0]</td>\n",
       "    </tr>\n",
       "    <tr>\n",
       "      <th>2</th>\n",
       "      <td>[4, 3, 0, 1, 0, 0, 0, 1, 1, 0, 0, 0, 0, 0, 1, 0]</td>\n",
       "      <td>[5, 3, 0, 1, 0, 0, 0, 0, 1, 0, 0, 0, 0, 0, 1, 0]</td>\n",
       "    </tr>\n",
       "    <tr>\n",
       "      <th>3</th>\n",
       "      <td>[5, 2, 1, 1, 0, 0, 0, 0, 1, 0, 0, 0, 0, 1, 1, 0]</td>\n",
       "      <td>[5, 2, 1, 1, 0, 0, 0, 0, 1, 0, 1, 0, 0, 1, 1, 0]</td>\n",
       "    </tr>\n",
       "    <tr>\n",
       "      <th>4</th>\n",
       "      <td>[5, 2, 0, 1, 0, 0, 0, 0, 1, 0, 1, 0, 0, 1, 1, 0]</td>\n",
       "      <td>[1, 2, 0, 0, 0, 0, 0, 0, 0, 0, 1, 0, 0, 1, 1, 0]</td>\n",
       "    </tr>\n",
       "  </tbody>\n",
       "</table>\n",
       "</div>"
      ],
      "text/plain": [
       "                                             Before  \\\n",
       "0  [3, 3, 0, 1, 0, 0, 1, 0, 1, 0, 1, 0, 0, 0, 1, 0]   \n",
       "1  [4, 3, 0, 1, 0, 0, 0, 1, 1, 0, 0, 0, 1, 0, 1, 0]   \n",
       "2  [4, 3, 0, 1, 0, 0, 0, 1, 1, 0, 0, 0, 0, 0, 1, 0]   \n",
       "3  [5, 2, 1, 1, 0, 0, 0, 0, 1, 0, 0, 0, 0, 1, 1, 0]   \n",
       "4  [5, 2, 0, 1, 0, 0, 0, 0, 1, 0, 1, 0, 0, 1, 1, 0]   \n",
       "\n",
       "                                              After  \n",
       "0  [3, 3, 0, 1, 0, 0, 1, 0, 1, 0, 0, 0, 0, 0, 1, 0]  \n",
       "1  [4, 3, 1, 1, 0, 0, 0, 1, 1, 0, 0, 0, 0, 0, 1, 0]  \n",
       "2  [5, 3, 0, 1, 0, 0, 0, 0, 1, 0, 0, 0, 0, 0, 1, 0]  \n",
       "3  [5, 2, 1, 1, 0, 0, 0, 0, 1, 0, 1, 0, 0, 1, 1, 0]  \n",
       "4  [1, 2, 0, 0, 0, 0, 0, 0, 0, 0, 1, 0, 0, 1, 1, 0]  "
      ]
     },
     "execution_count": 157,
     "metadata": {},
     "output_type": "execute_result"
    }
   ],
   "source": [
    "state_seen_df.head()"
   ]
  },
  {
   "cell_type": "code",
   "execution_count": 158,
   "metadata": {},
   "outputs": [],
   "source": [
    "state_seen_df['Before'] = state_seen_df['Before'].apply(lambda x: x[3:11])\n",
    "state_seen_df['After'] = state_seen_df['After'].apply(lambda x: x[3:11])"
   ]
  },
  {
   "cell_type": "code",
   "execution_count": 159,
   "metadata": {},
   "outputs": [
    {
     "data": {
      "text/html": [
       "<div>\n",
       "<style scoped>\n",
       "    .dataframe tbody tr th:only-of-type {\n",
       "        vertical-align: middle;\n",
       "    }\n",
       "\n",
       "    .dataframe tbody tr th {\n",
       "        vertical-align: top;\n",
       "    }\n",
       "\n",
       "    .dataframe thead th {\n",
       "        text-align: right;\n",
       "    }\n",
       "</style>\n",
       "<table border=\"1\" class=\"dataframe\">\n",
       "  <thead>\n",
       "    <tr style=\"text-align: right;\">\n",
       "      <th></th>\n",
       "      <th>Before</th>\n",
       "      <th>After</th>\n",
       "    </tr>\n",
       "  </thead>\n",
       "  <tbody>\n",
       "    <tr>\n",
       "      <th>0</th>\n",
       "      <td>[1, 0, 0, 1, 0, 1, 0, 1]</td>\n",
       "      <td>[1, 0, 0, 1, 0, 1, 0, 0]</td>\n",
       "    </tr>\n",
       "    <tr>\n",
       "      <th>1</th>\n",
       "      <td>[1, 0, 0, 0, 1, 1, 0, 0]</td>\n",
       "      <td>[1, 0, 0, 0, 1, 1, 0, 0]</td>\n",
       "    </tr>\n",
       "    <tr>\n",
       "      <th>2</th>\n",
       "      <td>[1, 0, 0, 0, 1, 1, 0, 0]</td>\n",
       "      <td>[1, 0, 0, 0, 0, 1, 0, 0]</td>\n",
       "    </tr>\n",
       "    <tr>\n",
       "      <th>3</th>\n",
       "      <td>[1, 0, 0, 0, 0, 1, 0, 0]</td>\n",
       "      <td>[1, 0, 0, 0, 0, 1, 0, 1]</td>\n",
       "    </tr>\n",
       "    <tr>\n",
       "      <th>4</th>\n",
       "      <td>[1, 0, 0, 0, 0, 1, 0, 1]</td>\n",
       "      <td>[0, 0, 0, 0, 0, 0, 0, 1]</td>\n",
       "    </tr>\n",
       "  </tbody>\n",
       "</table>\n",
       "</div>"
      ],
      "text/plain": [
       "                     Before                     After\n",
       "0  [1, 0, 0, 1, 0, 1, 0, 1]  [1, 0, 0, 1, 0, 1, 0, 0]\n",
       "1  [1, 0, 0, 0, 1, 1, 0, 0]  [1, 0, 0, 0, 1, 1, 0, 0]\n",
       "2  [1, 0, 0, 0, 1, 1, 0, 0]  [1, 0, 0, 0, 0, 1, 0, 0]\n",
       "3  [1, 0, 0, 0, 0, 1, 0, 0]  [1, 0, 0, 0, 0, 1, 0, 1]\n",
       "4  [1, 0, 0, 0, 0, 1, 0, 1]  [0, 0, 0, 0, 0, 0, 0, 1]"
      ]
     },
     "execution_count": 159,
     "metadata": {},
     "output_type": "execute_result"
    }
   ],
   "source": [
    "state_seen_df.head()"
   ]
  },
  {
   "cell_type": "code",
   "execution_count": 160,
   "metadata": {},
   "outputs": [],
   "source": [
    "state_seen_df = state_seen_df[state_seen_df['Before'] != state_seen_df['After']]"
   ]
  },
  {
   "cell_type": "code",
   "execution_count": 161,
   "metadata": {},
   "outputs": [
    {
     "data": {
      "text/html": [
       "<div>\n",
       "<style scoped>\n",
       "    .dataframe tbody tr th:only-of-type {\n",
       "        vertical-align: middle;\n",
       "    }\n",
       "\n",
       "    .dataframe tbody tr th {\n",
       "        vertical-align: top;\n",
       "    }\n",
       "\n",
       "    .dataframe thead th {\n",
       "        text-align: right;\n",
       "    }\n",
       "</style>\n",
       "<table border=\"1\" class=\"dataframe\">\n",
       "  <thead>\n",
       "    <tr style=\"text-align: right;\">\n",
       "      <th></th>\n",
       "      <th>Before</th>\n",
       "      <th>After</th>\n",
       "    </tr>\n",
       "  </thead>\n",
       "  <tbody>\n",
       "    <tr>\n",
       "      <th>0</th>\n",
       "      <td>[1, 0, 0, 1, 0, 1, 0, 1]</td>\n",
       "      <td>[1, 0, 0, 1, 0, 1, 0, 0]</td>\n",
       "    </tr>\n",
       "    <tr>\n",
       "      <th>2</th>\n",
       "      <td>[1, 0, 0, 0, 1, 1, 0, 0]</td>\n",
       "      <td>[1, 0, 0, 0, 0, 1, 0, 0]</td>\n",
       "    </tr>\n",
       "    <tr>\n",
       "      <th>3</th>\n",
       "      <td>[1, 0, 0, 0, 0, 1, 0, 0]</td>\n",
       "      <td>[1, 0, 0, 0, 0, 1, 0, 1]</td>\n",
       "    </tr>\n",
       "    <tr>\n",
       "      <th>4</th>\n",
       "      <td>[1, 0, 0, 0, 0, 1, 0, 1]</td>\n",
       "      <td>[0, 0, 0, 0, 0, 0, 0, 1]</td>\n",
       "    </tr>\n",
       "    <tr>\n",
       "      <th>6</th>\n",
       "      <td>[1, 0, 0, 0, 0, 0, 0, 1]</td>\n",
       "      <td>[1, 0, 0, 0, 0, 0, 0, 0]</td>\n",
       "    </tr>\n",
       "  </tbody>\n",
       "</table>\n",
       "</div>"
      ],
      "text/plain": [
       "                     Before                     After\n",
       "0  [1, 0, 0, 1, 0, 1, 0, 1]  [1, 0, 0, 1, 0, 1, 0, 0]\n",
       "2  [1, 0, 0, 0, 1, 1, 0, 0]  [1, 0, 0, 0, 0, 1, 0, 0]\n",
       "3  [1, 0, 0, 0, 0, 1, 0, 0]  [1, 0, 0, 0, 0, 1, 0, 1]\n",
       "4  [1, 0, 0, 0, 0, 1, 0, 1]  [0, 0, 0, 0, 0, 0, 0, 1]\n",
       "6  [1, 0, 0, 0, 0, 0, 0, 1]  [1, 0, 0, 0, 0, 0, 0, 0]"
      ]
     },
     "execution_count": 161,
     "metadata": {},
     "output_type": "execute_result"
    }
   ],
   "source": [
    "state_seen_df.head()"
   ]
  },
  {
   "cell_type": "code",
   "execution_count": 162,
   "metadata": {},
   "outputs": [],
   "source": [
    "def trova_differenze(lista1, lista2):\n",
    "    return [i for i, (elem1, elem2) in enumerate(zip(lista1, lista2)) if elem1 != elem2]"
   ]
  },
  {
   "cell_type": "code",
   "execution_count": 163,
   "metadata": {},
   "outputs": [],
   "source": [
    "state_seen_df['indici_differenze'] = state_seen_df.apply(lambda row: trova_differenze(row['Before'], row['After']), axis=1)"
   ]
  },
  {
   "cell_type": "code",
   "execution_count": 164,
   "metadata": {},
   "outputs": [
    {
     "data": {
      "text/html": [
       "<div>\n",
       "<style scoped>\n",
       "    .dataframe tbody tr th:only-of-type {\n",
       "        vertical-align: middle;\n",
       "    }\n",
       "\n",
       "    .dataframe tbody tr th {\n",
       "        vertical-align: top;\n",
       "    }\n",
       "\n",
       "    .dataframe thead th {\n",
       "        text-align: right;\n",
       "    }\n",
       "</style>\n",
       "<table border=\"1\" class=\"dataframe\">\n",
       "  <thead>\n",
       "    <tr style=\"text-align: right;\">\n",
       "      <th></th>\n",
       "      <th>Before</th>\n",
       "      <th>After</th>\n",
       "      <th>indici_differenze</th>\n",
       "    </tr>\n",
       "  </thead>\n",
       "  <tbody>\n",
       "    <tr>\n",
       "      <th>0</th>\n",
       "      <td>[1, 0, 0, 1, 0, 1, 0, 1]</td>\n",
       "      <td>[1, 0, 0, 1, 0, 1, 0, 0]</td>\n",
       "      <td>[7]</td>\n",
       "    </tr>\n",
       "    <tr>\n",
       "      <th>2</th>\n",
       "      <td>[1, 0, 0, 0, 1, 1, 0, 0]</td>\n",
       "      <td>[1, 0, 0, 0, 0, 1, 0, 0]</td>\n",
       "      <td>[4]</td>\n",
       "    </tr>\n",
       "    <tr>\n",
       "      <th>3</th>\n",
       "      <td>[1, 0, 0, 0, 0, 1, 0, 0]</td>\n",
       "      <td>[1, 0, 0, 0, 0, 1, 0, 1]</td>\n",
       "      <td>[7]</td>\n",
       "    </tr>\n",
       "    <tr>\n",
       "      <th>4</th>\n",
       "      <td>[1, 0, 0, 0, 0, 1, 0, 1]</td>\n",
       "      <td>[0, 0, 0, 0, 0, 0, 0, 1]</td>\n",
       "      <td>[0, 5]</td>\n",
       "    </tr>\n",
       "    <tr>\n",
       "      <th>6</th>\n",
       "      <td>[1, 0, 0, 0, 0, 0, 0, 1]</td>\n",
       "      <td>[1, 0, 0, 0, 0, 0, 0, 0]</td>\n",
       "      <td>[7]</td>\n",
       "    </tr>\n",
       "  </tbody>\n",
       "</table>\n",
       "</div>"
      ],
      "text/plain": [
       "                     Before                     After indici_differenze\n",
       "0  [1, 0, 0, 1, 0, 1, 0, 1]  [1, 0, 0, 1, 0, 1, 0, 0]               [7]\n",
       "2  [1, 0, 0, 0, 1, 1, 0, 0]  [1, 0, 0, 0, 0, 1, 0, 0]               [4]\n",
       "3  [1, 0, 0, 0, 0, 1, 0, 0]  [1, 0, 0, 0, 0, 1, 0, 1]               [7]\n",
       "4  [1, 0, 0, 0, 0, 1, 0, 1]  [0, 0, 0, 0, 0, 0, 0, 1]            [0, 5]\n",
       "6  [1, 0, 0, 0, 0, 0, 0, 1]  [1, 0, 0, 0, 0, 0, 0, 0]               [7]"
      ]
     },
     "execution_count": 164,
     "metadata": {},
     "output_type": "execute_result"
    }
   ],
   "source": [
    "state_seen_df.head()"
   ]
  },
  {
   "cell_type": "code",
   "execution_count": 165,
   "metadata": {},
   "outputs": [],
   "source": [
    "state_seen_df = state_seen_df[(state_seen_df['indici_differenze'].apply(len) > 1) & (state_seen_df['indici_differenze'].apply(len) < 3)]"
   ]
  },
  {
   "cell_type": "code",
   "execution_count": 166,
   "metadata": {},
   "outputs": [
    {
     "data": {
      "text/html": [
       "<div>\n",
       "<style scoped>\n",
       "    .dataframe tbody tr th:only-of-type {\n",
       "        vertical-align: middle;\n",
       "    }\n",
       "\n",
       "    .dataframe tbody tr th {\n",
       "        vertical-align: top;\n",
       "    }\n",
       "\n",
       "    .dataframe thead th {\n",
       "        text-align: right;\n",
       "    }\n",
       "</style>\n",
       "<table border=\"1\" class=\"dataframe\">\n",
       "  <thead>\n",
       "    <tr style=\"text-align: right;\">\n",
       "      <th></th>\n",
       "      <th>Before</th>\n",
       "      <th>After</th>\n",
       "      <th>indici_differenze</th>\n",
       "    </tr>\n",
       "  </thead>\n",
       "  <tbody>\n",
       "    <tr>\n",
       "      <th>4</th>\n",
       "      <td>[1, 0, 0, 0, 0, 1, 0, 1]</td>\n",
       "      <td>[0, 0, 0, 0, 0, 0, 0, 1]</td>\n",
       "      <td>[0, 5]</td>\n",
       "    </tr>\n",
       "    <tr>\n",
       "      <th>22</th>\n",
       "      <td>[0, 1, 0, 0, 0, 0, 0, 1]</td>\n",
       "      <td>[0, 1, 1, 1, 0, 0, 0, 1]</td>\n",
       "      <td>[2, 3]</td>\n",
       "    </tr>\n",
       "    <tr>\n",
       "      <th>40</th>\n",
       "      <td>[0, 1, 1, 1, 0, 1, 0, 0]</td>\n",
       "      <td>[0, 0, 1, 1, 0, 0, 0, 0]</td>\n",
       "      <td>[1, 5]</td>\n",
       "    </tr>\n",
       "    <tr>\n",
       "      <th>43</th>\n",
       "      <td>[0, 1, 1, 1, 0, 0, 0, 1]</td>\n",
       "      <td>[0, 0, 1, 1, 0, 0, 0, 0]</td>\n",
       "      <td>[1, 7]</td>\n",
       "    </tr>\n",
       "    <tr>\n",
       "      <th>45</th>\n",
       "      <td>[1, 1, 0, 1, 0, 1, 1, 1]</td>\n",
       "      <td>[0, 1, 0, 1, 0, 0, 1, 1]</td>\n",
       "      <td>[0, 5]</td>\n",
       "    </tr>\n",
       "  </tbody>\n",
       "</table>\n",
       "</div>"
      ],
      "text/plain": [
       "                      Before                     After indici_differenze\n",
       "4   [1, 0, 0, 0, 0, 1, 0, 1]  [0, 0, 0, 0, 0, 0, 0, 1]            [0, 5]\n",
       "22  [0, 1, 0, 0, 0, 0, 0, 1]  [0, 1, 1, 1, 0, 0, 0, 1]            [2, 3]\n",
       "40  [0, 1, 1, 1, 0, 1, 0, 0]  [0, 0, 1, 1, 0, 0, 0, 0]            [1, 5]\n",
       "43  [0, 1, 1, 1, 0, 0, 0, 1]  [0, 0, 1, 1, 0, 0, 0, 0]            [1, 7]\n",
       "45  [1, 1, 0, 1, 0, 1, 1, 1]  [0, 1, 0, 1, 0, 0, 1, 1]            [0, 5]"
      ]
     },
     "execution_count": 166,
     "metadata": {},
     "output_type": "execute_result"
    }
   ],
   "source": [
    "state_seen_df.head()"
   ]
  },
  {
   "cell_type": "code",
   "execution_count": 167,
   "metadata": {},
   "outputs": [],
   "source": [
    "state_seen_df['indici_differenze'] = state_seen_df['indici_differenze'].apply(tuple)"
   ]
  },
  {
   "cell_type": "code",
   "execution_count": 168,
   "metadata": {},
   "outputs": [],
   "source": [
    "state_seen_df = pd.concat([state_seen_df, state_seen_df.iloc[[0]]], ignore_index=True)"
   ]
  },
  {
   "cell_type": "code",
   "execution_count": 169,
   "metadata": {},
   "outputs": [
    {
     "data": {
      "text/html": [
       "<div>\n",
       "<style scoped>\n",
       "    .dataframe tbody tr th:only-of-type {\n",
       "        vertical-align: middle;\n",
       "    }\n",
       "\n",
       "    .dataframe tbody tr th {\n",
       "        vertical-align: top;\n",
       "    }\n",
       "\n",
       "    .dataframe thead th {\n",
       "        text-align: right;\n",
       "    }\n",
       "</style>\n",
       "<table border=\"1\" class=\"dataframe\">\n",
       "  <thead>\n",
       "    <tr style=\"text-align: right;\">\n",
       "      <th></th>\n",
       "      <th>Before</th>\n",
       "      <th>After</th>\n",
       "      <th>indici_differenze</th>\n",
       "    </tr>\n",
       "  </thead>\n",
       "  <tbody>\n",
       "    <tr>\n",
       "      <th>0</th>\n",
       "      <td>[1, 0, 0, 0, 0, 1, 0, 1]</td>\n",
       "      <td>[0, 0, 0, 0, 0, 0, 0, 1]</td>\n",
       "      <td>(0, 5)</td>\n",
       "    </tr>\n",
       "    <tr>\n",
       "      <th>1</th>\n",
       "      <td>[0, 1, 0, 0, 0, 0, 0, 1]</td>\n",
       "      <td>[0, 1, 1, 1, 0, 0, 0, 1]</td>\n",
       "      <td>(2, 3)</td>\n",
       "    </tr>\n",
       "    <tr>\n",
       "      <th>2</th>\n",
       "      <td>[0, 1, 1, 1, 0, 1, 0, 0]</td>\n",
       "      <td>[0, 0, 1, 1, 0, 0, 0, 0]</td>\n",
       "      <td>(1, 5)</td>\n",
       "    </tr>\n",
       "    <tr>\n",
       "      <th>3</th>\n",
       "      <td>[0, 1, 1, 1, 0, 0, 0, 1]</td>\n",
       "      <td>[0, 0, 1, 1, 0, 0, 0, 0]</td>\n",
       "      <td>(1, 7)</td>\n",
       "    </tr>\n",
       "    <tr>\n",
       "      <th>4</th>\n",
       "      <td>[1, 1, 0, 1, 0, 1, 1, 1]</td>\n",
       "      <td>[0, 1, 0, 1, 0, 0, 1, 1]</td>\n",
       "      <td>(0, 5)</td>\n",
       "    </tr>\n",
       "  </tbody>\n",
       "</table>\n",
       "</div>"
      ],
      "text/plain": [
       "                     Before                     After indici_differenze\n",
       "0  [1, 0, 0, 0, 0, 1, 0, 1]  [0, 0, 0, 0, 0, 0, 0, 1]            (0, 5)\n",
       "1  [0, 1, 0, 0, 0, 0, 0, 1]  [0, 1, 1, 1, 0, 0, 0, 1]            (2, 3)\n",
       "2  [0, 1, 1, 1, 0, 1, 0, 0]  [0, 0, 1, 1, 0, 0, 0, 0]            (1, 5)\n",
       "3  [0, 1, 1, 1, 0, 0, 0, 1]  [0, 0, 1, 1, 0, 0, 0, 0]            (1, 7)\n",
       "4  [1, 1, 0, 1, 0, 1, 1, 1]  [0, 1, 0, 1, 0, 0, 1, 1]            (0, 5)"
      ]
     },
     "execution_count": 169,
     "metadata": {},
     "output_type": "execute_result"
    }
   ],
   "source": [
    "state_seen_df.head()"
   ]
  },
  {
   "cell_type": "code",
   "execution_count": 170,
   "metadata": {},
   "outputs": [],
   "source": [
    "state_seen_df = pd.DataFrame(state_seen_df.groupby('indici_differenze').size()).reset_index(drop=False)"
   ]
  },
  {
   "cell_type": "code",
   "execution_count": 171,
   "metadata": {},
   "outputs": [],
   "source": [
    "state_seen_df.columns = ['indici_differenze', 'Count']"
   ]
  },
  {
   "cell_type": "code",
   "execution_count": 172,
   "metadata": {},
   "outputs": [
    {
     "data": {
      "text/html": [
       "<div>\n",
       "<style scoped>\n",
       "    .dataframe tbody tr th:only-of-type {\n",
       "        vertical-align: middle;\n",
       "    }\n",
       "\n",
       "    .dataframe tbody tr th {\n",
       "        vertical-align: top;\n",
       "    }\n",
       "\n",
       "    .dataframe thead th {\n",
       "        text-align: right;\n",
       "    }\n",
       "</style>\n",
       "<table border=\"1\" class=\"dataframe\">\n",
       "  <thead>\n",
       "    <tr style=\"text-align: right;\">\n",
       "      <th></th>\n",
       "      <th>indici_differenze</th>\n",
       "      <th>Count</th>\n",
       "    </tr>\n",
       "  </thead>\n",
       "  <tbody>\n",
       "    <tr>\n",
       "      <th>0</th>\n",
       "      <td>(0, 1)</td>\n",
       "      <td>6</td>\n",
       "    </tr>\n",
       "    <tr>\n",
       "      <th>1</th>\n",
       "      <td>(0, 2)</td>\n",
       "      <td>2</td>\n",
       "    </tr>\n",
       "    <tr>\n",
       "      <th>2</th>\n",
       "      <td>(0, 3)</td>\n",
       "      <td>1</td>\n",
       "    </tr>\n",
       "    <tr>\n",
       "      <th>3</th>\n",
       "      <td>(0, 5)</td>\n",
       "      <td>85</td>\n",
       "    </tr>\n",
       "    <tr>\n",
       "      <th>4</th>\n",
       "      <td>(0, 6)</td>\n",
       "      <td>72</td>\n",
       "    </tr>\n",
       "  </tbody>\n",
       "</table>\n",
       "</div>"
      ],
      "text/plain": [
       "  indici_differenze  Count\n",
       "0            (0, 1)      6\n",
       "1            (0, 2)      2\n",
       "2            (0, 3)      1\n",
       "3            (0, 5)     85\n",
       "4            (0, 6)     72"
      ]
     },
     "execution_count": 172,
     "metadata": {},
     "output_type": "execute_result"
    }
   ],
   "source": [
    "state_seen_df.head()"
   ]
  },
  {
   "cell_type": "code",
   "execution_count": 173,
   "metadata": {},
   "outputs": [],
   "source": [
    "state_seen_df[['ZONE', 'CERTIFICATION']] = state_seen_df['indici_differenze'].apply(lambda x: pd.Series([x[0], x[1]]))"
   ]
  },
  {
   "cell_type": "code",
   "execution_count": 174,
   "metadata": {},
   "outputs": [
    {
     "data": {
      "text/html": [
       "<div>\n",
       "<style scoped>\n",
       "    .dataframe tbody tr th:only-of-type {\n",
       "        vertical-align: middle;\n",
       "    }\n",
       "\n",
       "    .dataframe tbody tr th {\n",
       "        vertical-align: top;\n",
       "    }\n",
       "\n",
       "    .dataframe thead th {\n",
       "        text-align: right;\n",
       "    }\n",
       "</style>\n",
       "<table border=\"1\" class=\"dataframe\">\n",
       "  <thead>\n",
       "    <tr style=\"text-align: right;\">\n",
       "      <th></th>\n",
       "      <th>indici_differenze</th>\n",
       "      <th>Count</th>\n",
       "      <th>ZONE</th>\n",
       "      <th>CERTIFICATION</th>\n",
       "    </tr>\n",
       "  </thead>\n",
       "  <tbody>\n",
       "    <tr>\n",
       "      <th>0</th>\n",
       "      <td>(0, 1)</td>\n",
       "      <td>6</td>\n",
       "      <td>0</td>\n",
       "      <td>1</td>\n",
       "    </tr>\n",
       "    <tr>\n",
       "      <th>1</th>\n",
       "      <td>(0, 2)</td>\n",
       "      <td>2</td>\n",
       "      <td>0</td>\n",
       "      <td>2</td>\n",
       "    </tr>\n",
       "    <tr>\n",
       "      <th>2</th>\n",
       "      <td>(0, 3)</td>\n",
       "      <td>1</td>\n",
       "      <td>0</td>\n",
       "      <td>3</td>\n",
       "    </tr>\n",
       "    <tr>\n",
       "      <th>3</th>\n",
       "      <td>(0, 5)</td>\n",
       "      <td>85</td>\n",
       "      <td>0</td>\n",
       "      <td>5</td>\n",
       "    </tr>\n",
       "    <tr>\n",
       "      <th>4</th>\n",
       "      <td>(0, 6)</td>\n",
       "      <td>72</td>\n",
       "      <td>0</td>\n",
       "      <td>6</td>\n",
       "    </tr>\n",
       "  </tbody>\n",
       "</table>\n",
       "</div>"
      ],
      "text/plain": [
       "  indici_differenze  Count  ZONE  CERTIFICATION\n",
       "0            (0, 1)      6     0              1\n",
       "1            (0, 2)      2     0              2\n",
       "2            (0, 3)      1     0              3\n",
       "3            (0, 5)     85     0              5\n",
       "4            (0, 6)     72     0              6"
      ]
     },
     "execution_count": 174,
     "metadata": {},
     "output_type": "execute_result"
    }
   ],
   "source": [
    "state_seen_df.head()"
   ]
  },
  {
   "cell_type": "code",
   "execution_count": 175,
   "metadata": {},
   "outputs": [],
   "source": [
    "state_seen_df.drop(columns=['indici_differenze'], inplace=True)"
   ]
  },
  {
   "cell_type": "code",
   "execution_count": 176,
   "metadata": {},
   "outputs": [],
   "source": [
    "state_seen_df = state_seen_df[state_seen_df['ZONE'] < 4]"
   ]
  },
  {
   "cell_type": "code",
   "execution_count": 177,
   "metadata": {},
   "outputs": [],
   "source": [
    "state_seen_df = state_seen_df[state_seen_df['CERTIFICATION'] > 4]"
   ]
  },
  {
   "cell_type": "code",
   "execution_count": 178,
   "metadata": {},
   "outputs": [],
   "source": [
    "state_seen_df['colonna_percentuale'] = state_seen_df['Count'].apply(lambda x: x / state_seen_df['Count'].sum())"
   ]
  },
  {
   "cell_type": "code",
   "execution_count": 179,
   "metadata": {},
   "outputs": [],
   "source": [
    "state_seen_df.drop(columns=['Count'], inplace=True)"
   ]
  },
  {
   "cell_type": "code",
   "execution_count": 180,
   "metadata": {},
   "outputs": [
    {
     "data": {
      "text/html": [
       "<div>\n",
       "<style scoped>\n",
       "    .dataframe tbody tr th:only-of-type {\n",
       "        vertical-align: middle;\n",
       "    }\n",
       "\n",
       "    .dataframe tbody tr th {\n",
       "        vertical-align: top;\n",
       "    }\n",
       "\n",
       "    .dataframe thead th {\n",
       "        text-align: right;\n",
       "    }\n",
       "</style>\n",
       "<table border=\"1\" class=\"dataframe\">\n",
       "  <thead>\n",
       "    <tr style=\"text-align: right;\">\n",
       "      <th></th>\n",
       "      <th>ZONE</th>\n",
       "      <th>CERTIFICATION</th>\n",
       "      <th>colonna_percentuale</th>\n",
       "    </tr>\n",
       "  </thead>\n",
       "  <tbody>\n",
       "    <tr>\n",
       "      <th>3</th>\n",
       "      <td>0</td>\n",
       "      <td>5</td>\n",
       "      <td>11.258278</td>\n",
       "    </tr>\n",
       "    <tr>\n",
       "      <th>4</th>\n",
       "      <td>0</td>\n",
       "      <td>6</td>\n",
       "      <td>9.536424</td>\n",
       "    </tr>\n",
       "    <tr>\n",
       "      <th>5</th>\n",
       "      <td>0</td>\n",
       "      <td>7</td>\n",
       "      <td>9.139073</td>\n",
       "    </tr>\n",
       "    <tr>\n",
       "      <th>9</th>\n",
       "      <td>1</td>\n",
       "      <td>5</td>\n",
       "      <td>14.569536</td>\n",
       "    </tr>\n",
       "    <tr>\n",
       "      <th>10</th>\n",
       "      <td>1</td>\n",
       "      <td>6</td>\n",
       "      <td>10.463576</td>\n",
       "    </tr>\n",
       "  </tbody>\n",
       "</table>\n",
       "</div>"
      ],
      "text/plain": [
       "    ZONE  CERTIFICATION  colonna_percentuale\n",
       "3      0              5            11.258278\n",
       "4      0              6             9.536424\n",
       "5      0              7             9.139073\n",
       "9      1              5            14.569536\n",
       "10     1              6            10.463576"
      ]
     },
     "execution_count": 180,
     "metadata": {},
     "output_type": "execute_result"
    }
   ],
   "source": [
    "state_seen_df.head()"
   ]
  },
  {
   "cell_type": "code",
   "execution_count": 181,
   "metadata": {},
   "outputs": [],
   "source": [
    "zones = {0: 'WHITE', 1: 'YELLOW', 2: 'ORANGE', 3: 'RED'}\n",
    "certifications = {5: 'YELLOW', 6: 'ORANGE', 7: 'RED'}"
   ]
  },
  {
   "cell_type": "code",
   "execution_count": 182,
   "metadata": {},
   "outputs": [],
   "source": [
    "state_seen_df['ZONE'] = state_seen_df['ZONE'].replace(zones)\n",
    "state_seen_df['CERTIFICATION'] = state_seen_df['CERTIFICATION'].replace(certifications)"
   ]
  },
  {
   "cell_type": "code",
   "execution_count": 183,
   "metadata": {},
   "outputs": [],
   "source": [
    "state_seen_df.reset_index(drop=True, inplace=True)"
   ]
  },
  {
   "cell_type": "code",
   "execution_count": 184,
   "metadata": {},
   "outputs": [
    {
     "data": {
      "text/html": [
       "<div>\n",
       "<style scoped>\n",
       "    .dataframe tbody tr th:only-of-type {\n",
       "        vertical-align: middle;\n",
       "    }\n",
       "\n",
       "    .dataframe tbody tr th {\n",
       "        vertical-align: top;\n",
       "    }\n",
       "\n",
       "    .dataframe thead th {\n",
       "        text-align: right;\n",
       "    }\n",
       "</style>\n",
       "<table border=\"1\" class=\"dataframe\">\n",
       "  <thead>\n",
       "    <tr style=\"text-align: right;\">\n",
       "      <th></th>\n",
       "      <th>ZONE</th>\n",
       "      <th>CERTIFICATION</th>\n",
       "      <th>colonna_percentuale</th>\n",
       "    </tr>\n",
       "  </thead>\n",
       "  <tbody>\n",
       "    <tr>\n",
       "      <th>0</th>\n",
       "      <td>WHITE</td>\n",
       "      <td>YELLOW</td>\n",
       "      <td>11.258278</td>\n",
       "    </tr>\n",
       "    <tr>\n",
       "      <th>1</th>\n",
       "      <td>WHITE</td>\n",
       "      <td>ORANGE</td>\n",
       "      <td>9.536424</td>\n",
       "    </tr>\n",
       "    <tr>\n",
       "      <th>2</th>\n",
       "      <td>WHITE</td>\n",
       "      <td>RED</td>\n",
       "      <td>9.139073</td>\n",
       "    </tr>\n",
       "    <tr>\n",
       "      <th>3</th>\n",
       "      <td>YELLOW</td>\n",
       "      <td>YELLOW</td>\n",
       "      <td>14.569536</td>\n",
       "    </tr>\n",
       "    <tr>\n",
       "      <th>4</th>\n",
       "      <td>YELLOW</td>\n",
       "      <td>ORANGE</td>\n",
       "      <td>10.463576</td>\n",
       "    </tr>\n",
       "    <tr>\n",
       "      <th>5</th>\n",
       "      <td>YELLOW</td>\n",
       "      <td>RED</td>\n",
       "      <td>11.258278</td>\n",
       "    </tr>\n",
       "    <tr>\n",
       "      <th>6</th>\n",
       "      <td>ORANGE</td>\n",
       "      <td>ORANGE</td>\n",
       "      <td>13.774834</td>\n",
       "    </tr>\n",
       "    <tr>\n",
       "      <th>7</th>\n",
       "      <td>ORANGE</td>\n",
       "      <td>RED</td>\n",
       "      <td>8.344371</td>\n",
       "    </tr>\n",
       "    <tr>\n",
       "      <th>8</th>\n",
       "      <td>RED</td>\n",
       "      <td>YELLOW</td>\n",
       "      <td>0.132450</td>\n",
       "    </tr>\n",
       "    <tr>\n",
       "      <th>9</th>\n",
       "      <td>RED</td>\n",
       "      <td>ORANGE</td>\n",
       "      <td>0.397351</td>\n",
       "    </tr>\n",
       "    <tr>\n",
       "      <th>10</th>\n",
       "      <td>RED</td>\n",
       "      <td>RED</td>\n",
       "      <td>11.125828</td>\n",
       "    </tr>\n",
       "  </tbody>\n",
       "</table>\n",
       "</div>"
      ],
      "text/plain": [
       "      ZONE CERTIFICATION  colonna_percentuale\n",
       "0    WHITE        YELLOW            11.258278\n",
       "1    WHITE        ORANGE             9.536424\n",
       "2    WHITE           RED             9.139073\n",
       "3   YELLOW        YELLOW            14.569536\n",
       "4   YELLOW        ORANGE            10.463576\n",
       "5   YELLOW           RED            11.258278\n",
       "6   ORANGE        ORANGE            13.774834\n",
       "7   ORANGE           RED             8.344371\n",
       "8      RED        YELLOW             0.132450\n",
       "9      RED        ORANGE             0.397351\n",
       "10     RED           RED            11.125828"
      ]
     },
     "execution_count": 184,
     "metadata": {},
     "output_type": "execute_result"
    }
   ],
   "source": [
    "state_seen_df"
   ]
  },
  {
   "cell_type": "code",
   "execution_count": 185,
   "metadata": {},
   "outputs": [
    {
     "name": "stdout",
     "output_type": "stream",
     "text": [
      "11\n"
     ]
    }
   ],
   "source": [
    "print(len(state_seen_df))"
   ]
  },
  {
   "cell_type": "code",
   "execution_count": 209,
   "metadata": {},
   "outputs": [
    {
     "data": {
      "image/png": "[encoded data removed]",
      "text/plain": [
       "<Figure size 500x500 with 2 Axes>"
      ]
     },
     "metadata": {},
     "output_type": "display_data"
    }
   ],
   "source": [
    "heatmap_data = state_seen_df.pivot(index='ZONE', columns='CERTIFICATION', values='colonna_percentuale')\n",
    "\n",
    "fig, ax = plt.subplots(1, 1, figsize = (5, 5))\n",
    "\n",
    "cmap_custom = LinearSegmentedColormap.from_list('custom', [purple, orange])\n",
    "\n",
    "sns.heatmap(heatmap_data,\n",
    "            linewidth = 0.3,\n",
    "            annot=True,\n",
    "            cmap=cmap_custom,\n",
    "            cbar = True,\n",
    "            fmt='1.02%',\n",
    "            square=True)\n",
    "\n",
    "plt.show()"
   ]
  }
 ],
 "metadata": {
  "kernelspec": {
   "display_name": "base",
   "language": "python",
   "name": "python3"
  },
  "language_info": {
   "codemirror_mode": {
    "name": "ipython",
    "version": 3
   },
   "file_extension": ".py",
   "mimetype": "text/x-python",
   "name": "python",
   "nbconvert_exporter": "python",
   "pygments_lexer": "ipython3",
   "version": "3.12.1"
  },
  "toc": {
   "base_numbering": 1,
   "nav_menu": {},
   "number_sections": true,
   "sideBar": false,
   "skip_h1_title": true,
   "title_cell": "Table of Contents",
   "title_sidebar": "Contents",
   "toc_cell": true,
   "toc_position": {},
   "toc_section_display": true,
   "toc_window_display": false
  },
  "vscode": {
   "interpreter": {
    "hash": "9816ba45970f25120ffa279bccf0a5c34e579beb7c4b1800832975b0e94d1fa8"
   }
  }
 },
 "nbformat": 4,
 "nbformat_minor": 4
}
