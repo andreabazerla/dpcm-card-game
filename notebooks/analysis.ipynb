{
 "cells": [
  {
   "cell_type": "markdown",
   "metadata": {},
   "source": [
    "# DPCM Card Game Simulator"
   ]
  },
  {
   "attachments": {},
   "cell_type": "markdown",
   "metadata": {},
   "source": [
    "## Imports"
   ]
  },
  {
   "cell_type": "code",
   "execution_count": 1,
   "metadata": {},
   "outputs": [],
   "source": [
    "import pandas as pd\n",
    "import numpy as np\n",
    "import matplotlib.pyplot as plt\n",
    "from matplotlib.colors import LinearSegmentedColormap\n",
    "import seaborn as sns\n",
    "import ast"
   ]
  },
  {
   "cell_type": "markdown",
   "metadata": {},
   "source": [
    "### Variables"
   ]
  },
  {
   "cell_type": "code",
   "execution_count": 2,
   "metadata": {},
   "outputs": [],
   "source": [
    "purple = '#7f00ff'\n",
    "orange = '#ff4500'"
   ]
  },
  {
   "cell_type": "markdown",
   "metadata": {},
   "source": [
    "### Analysis"
   ]
  },
  {
   "cell_type": "code",
   "execution_count": null,
   "metadata": {},
   "outputs": [],
   "source": [
    "results_df = pd.read_csv('../data/results.csv')"
   ]
  },
  {
   "cell_type": "code",
   "execution_count": null,
   "metadata": {},
   "outputs": [],
   "source": [
    "fig = plt.figure(1, figsize=(15, 7))\n",
    "\n",
    "n, bins, patches = plt.hist(results_df['Turns'], bins=np.arange(0, max(results_df['Turns']), 5), color=purple, edgecolor='w')\n",
    "\n",
    "x = range(max(results_df['Turns']))\n",
    "plt.xticks(np.arange(min(x), max(x)+10, 5))\n",
    "\n",
    "n = list(n)\n",
    "patches[n.index(max(n))].set_fc(orange)\n",
    "\n",
    "plt.xlabel('Turns per Game')\n",
    "plt.ylabel('Number of games')\n",
    "\n",
    "plt.title('Turns Distribution')\n",
    "\n",
    "plt.show()"
   ]
  },
  {
   "cell_type": "code",
   "execution_count": null,
   "metadata": {},
   "outputs": [],
   "source": [
    "fig = plt.figure(1, figsize=(15, 7))\n",
    "\n",
    "not_fair_file = 'not_fair.csv'\n",
    "fair_file = 'fair.csv'\n",
    "\n",
    "not_fair_df = pd.read_csv('../data/' + not_fair_file)\n",
    "fair_df = pd.read_csv('../data/' + fair_file)\n",
    "\n",
    "plt.plot(not_fair_df.index, not_fair_df['Rate'], color = orange, label='Win-Rate not fair')\n",
    "plt.plot(fair_df.index, fair_df['Rate'], color = purple, label='Win-Rate fair')\n",
    "\n",
    "plt.hlines(0.5, 0, len(not_fair_df), colors='black', linestyles='dashed')\n",
    "\n",
    "plt.title('Win Rate with Starting Advantage')\n",
    "\n",
    "plt.legend(loc='lower right')\n",
    "\n",
    "plt.xlabel('Simulations')\n",
    "plt.ylabel('Win Rate')\n",
    "\n",
    "plt.show()"
   ]
  },
  {
   "cell_type": "code",
   "execution_count": null,
   "metadata": {},
   "outputs": [],
   "source": [
    "print(f'{abs(not_fair_df['Rate'].iloc[-1] - fair_df['Rate'].iloc[-1])*100:.2f}%')"
   ]
  },
  {
   "cell_type": "markdown",
   "metadata": {},
   "source": [
    "### Human VS AI"
   ]
  },
  {
   "cell_type": "code",
   "execution_count": null,
   "metadata": {},
   "outputs": [],
   "source": [
    "fig = plt.figure(1, figsize=(15, 7))\n",
    "\n",
    "fair_file = 'fair.csv'\n",
    "fair_df = pd.read_csv('../data/' + fair_file)\n",
    "\n",
    "plt.plot(results_df.index, results_df['Rate'], color = orange, label='AI')\n",
    "plt.plot(fair_df.index, fair_df['Rate'], color = purple, label='Human')\n",
    "\n",
    "plt.hlines(0.5, 0, len(not_fair_df), colors='black', linestyles='dashed')\n",
    "\n",
    "plt.title('Win Rate with Starting Advantage')\n",
    "\n",
    "plt.legend(loc='lower right')\n",
    "\n",
    "plt.xlabel('Simulations')\n",
    "plt.ylabel('Win Rate')\n",
    "\n",
    "plt.show()"
   ]
  },
  {
   "cell_type": "code",
   "execution_count": null,
   "metadata": {},
   "outputs": [],
   "source": [
    "print(f'{abs(results_df['Rate'].iloc[-1] - fair_df['Rate'].iloc[-1])*100:.2f}%')"
   ]
  },
  {
   "cell_type": "markdown",
   "metadata": {},
   "source": [
    "### Visits"
   ]
  },
  {
   "cell_type": "code",
   "execution_count": null,
   "metadata": {},
   "outputs": [],
   "source": [
    "visited_df = pd.read_csv('../data/visited.csv')"
   ]
  },
  {
   "cell_type": "code",
   "execution_count": null,
   "metadata": {},
   "outputs": [],
   "source": [
    "visited_df['MAX'] = visited_df.iloc[:, 1:].max(axis=1)\n",
    "visited_df['HAND'] = visited_df['ID'].apply(lambda x: sum(eval(x)[3:]))"
   ]
  },
  {
   "cell_type": "code",
   "execution_count": null,
   "metadata": {},
   "outputs": [],
   "source": [
    "visited_pivot = visited_df.drop(columns='MAX').iloc[:, 1:].groupby('HAND').sum()\n",
    "visited_pivot = visited_pivot.replace(0, np.NaN)\n",
    "\n",
    "fig, ax = plt.subplots(1, 1, figsize = (15, 12))\n",
    "\n",
    "cmap_custom = LinearSegmentedColormap.from_list('custom', [purple, orange])\n",
    "\n",
    "sns.heatmap(visited_pivot, \n",
    "            fmt='.0f', \n",
    "            linewidth = 0.3, \n",
    "            annot = True,\n",
    "            cbar = True,\n",
    "            cmap=cmap_custom,\n",
    "            square=True)\n",
    "\n",
    "ax.title.set_text('Visits')\n",
    "\n",
    "ax.set(xlabel='Move taken', ylabel='Hand Cards Playable')\n",
    "\n",
    "plt.show()"
   ]
  },
  {
   "cell_type": "markdown",
   "metadata": {},
   "source": [
    "### Exploration"
   ]
  },
  {
   "cell_type": "code",
   "execution_count": null,
   "metadata": {},
   "outputs": [],
   "source": [
    "visits_df = pd.read_csv('../data/visits.csv')"
   ]
  },
  {
   "cell_type": "code",
   "execution_count": null,
   "metadata": {},
   "outputs": [],
   "source": [
    "visits_df.head()"
   ]
  },
  {
   "cell_type": "code",
   "execution_count": null,
   "metadata": {},
   "outputs": [],
   "source": [
    "visits_df['Cumsum'] = visits_df['Visits'].cumsum()"
   ]
  },
  {
   "cell_type": "code",
   "execution_count": null,
   "metadata": {},
   "outputs": [],
   "source": [
    "visits_df.head()"
   ]
  },
  {
   "cell_type": "code",
   "execution_count": null,
   "metadata": {},
   "outputs": [],
   "source": [
    "fig = plt.figure(1, figsize=(10, 10))\n",
    "\n",
    "x = np.linspace(0, max(visits_df.index))\n",
    "y = x\n",
    "\n",
    "plt.plot(visits_df.index, visits_df['Cumsum'], color = orange, label='Coverage')\n",
    "plt.plot(x, y, color = 'black', label='Linear', linestyle='--')\n",
    "\n",
    "plt.title('State/Move Coverage')\n",
    "\n",
    "plt.legend(loc='lower right')\n",
    "\n",
    "plt.xlabel('Turns of games')\n",
    "plt.ylabel('State/Move Pairs Visited')\n",
    "\n",
    "plt.show()"
   ]
  },
  {
   "cell_type": "markdown",
   "metadata": {},
   "source": [
    "### Cards Playable"
   ]
  },
  {
   "cell_type": "code",
   "execution_count": null,
   "metadata": {},
   "outputs": [],
   "source": [
    "visited_df = pd.read_csv('../data/visited.csv')"
   ]
  },
  {
   "cell_type": "code",
   "execution_count": null,
   "metadata": {},
   "outputs": [],
   "source": [
    "visited_df.head()"
   ]
  },
  {
   "cell_type": "code",
   "execution_count": null,
   "metadata": {},
   "outputs": [],
   "source": [
    "visited_df['VISITS'] = visited_df.iloc[:, 1:].max(axis=1)"
   ]
  },
  {
   "cell_type": "code",
   "execution_count": null,
   "metadata": {},
   "outputs": [],
   "source": [
    "visited_filtered_df = visited_df[visited_df['VISITS'] > 0]"
   ]
  },
  {
   "cell_type": "code",
   "execution_count": null,
   "metadata": {},
   "outputs": [],
   "source": [
    "visited_filtered_df.reset_index(drop=True, inplace=True)"
   ]
  },
  {
   "cell_type": "code",
   "execution_count": null,
   "metadata": {},
   "outputs": [],
   "source": [
    "visited_filtered_df.head()"
   ]
  },
  {
   "cell_type": "code",
   "execution_count": null,
   "metadata": {},
   "outputs": [],
   "source": [
    "print(len(visited_df), len(visited_filtered_df), str(round(len(visited_filtered_df)*100/len(visited_df), 2)) + '%')"
   ]
  },
  {
   "cell_type": "code",
   "execution_count": null,
   "metadata": {},
   "outputs": [],
   "source": [
    "state_max_df = visited_filtered_df[['ID', 'VISITS']].copy()"
   ]
  },
  {
   "cell_type": "code",
   "execution_count": null,
   "metadata": {},
   "outputs": [],
   "source": [
    "state_max_df.head()"
   ]
  },
  {
   "cell_type": "code",
   "execution_count": null,
   "metadata": {},
   "outputs": [],
   "source": [
    "state_max_df['ID'] = state_max_df['ID'].apply(ast.literal_eval)"
   ]
  },
  {
   "cell_type": "code",
   "execution_count": null,
   "metadata": {},
   "outputs": [],
   "source": [
    "state_max_df.head()"
   ]
  },
  {
   "cell_type": "code",
   "execution_count": null,
   "metadata": {},
   "outputs": [],
   "source": [
    "state_max_df['HAND'] = state_max_df['ID'].apply(lambda x: x[3:])"
   ]
  },
  {
   "cell_type": "code",
   "execution_count": null,
   "metadata": {},
   "outputs": [],
   "source": [
    "state_max_df.head()"
   ]
  },
  {
   "cell_type": "code",
   "execution_count": null,
   "metadata": {},
   "outputs": [],
   "source": [
    "state_max_df['HAND'] = state_max_df['HAND'].apply(lambda x: sum(x))"
   ]
  },
  {
   "cell_type": "code",
   "execution_count": null,
   "metadata": {},
   "outputs": [],
   "source": [
    "state_max_df.head()"
   ]
  },
  {
   "cell_type": "code",
   "execution_count": null,
   "metadata": {},
   "outputs": [],
   "source": [
    "state_max_df = state_max_df.drop('ID', axis=1)"
   ]
  },
  {
   "cell_type": "code",
   "execution_count": null,
   "metadata": {},
   "outputs": [],
   "source": [
    "state_max_df.head()"
   ]
  },
  {
   "cell_type": "code",
   "execution_count": null,
   "metadata": {},
   "outputs": [],
   "source": [
    "state_max_df = pd.DataFrame(state_max_df.groupby('HAND')['VISITS'].sum())"
   ]
  },
  {
   "cell_type": "code",
   "execution_count": null,
   "metadata": {},
   "outputs": [],
   "source": [
    "state_max_df.reset_index(drop=False, inplace=True)"
   ]
  },
  {
   "cell_type": "code",
   "execution_count": null,
   "metadata": {},
   "outputs": [],
   "source": [
    "state_max_df.head()"
   ]
  },
  {
   "cell_type": "code",
   "execution_count": null,
   "metadata": {},
   "outputs": [],
   "source": [
    "state_max_df['PERCENTAGE'] = round((state_max_df['VISITS'] / state_max_df['VISITS'].sum())*100, 2)"
   ]
  },
  {
   "cell_type": "code",
   "execution_count": null,
   "metadata": {},
   "outputs": [],
   "source": [
    "state_max_df.head()"
   ]
  },
  {
   "cell_type": "code",
   "execution_count": null,
   "metadata": {},
   "outputs": [],
   "source": [
    "state_max_df = state_max_df.drop('VISITS', axis=1)"
   ]
  },
  {
   "cell_type": "code",
   "execution_count": null,
   "metadata": {},
   "outputs": [],
   "source": [
    "state_max_df.head()"
   ]
  },
  {
   "cell_type": "code",
   "execution_count": null,
   "metadata": {},
   "outputs": [],
   "source": [
    "fig = plt.figure(1, figsize=(15, 7))\n",
    "\n",
    "barra_piu_alta = state_max_df.loc[state_max_df['PERCENTAGE'].idxmax()]\n",
    "\n",
    "plt.bar(state_max_df['HAND'], state_max_df['PERCENTAGE'], color=purple, edgecolor='w')\n",
    "plt.bar(barra_piu_alta['HAND'], barra_piu_alta['PERCENTAGE'], color=orange)\n",
    "\n",
    "plt.xticks(state_max_df['HAND'])\n",
    "\n",
    "plt.xlabel('Cards in hand')\n",
    "plt.ylabel('Occurences %')\n",
    "\n",
    "plt.title('Quantity of playable Cards')\n",
    "\n",
    "plt.show()"
   ]
  },
  {
   "cell_type": "markdown",
   "metadata": {},
   "source": [
    "#### Q-Values"
   ]
  },
  {
   "cell_type": "code",
   "execution_count": null,
   "metadata": {},
   "outputs": [],
   "source": [
    "q_df = pd.read_csv('../data/q.csv')"
   ]
  },
  {
   "cell_type": "code",
   "execution_count": null,
   "metadata": {},
   "outputs": [],
   "source": [
    "q_df['MAX'] = q_df.iloc[:, 1:].max(axis=1)"
   ]
  },
  {
   "cell_type": "code",
   "execution_count": null,
   "metadata": {},
   "outputs": [],
   "source": [
    "q_df['HAND'] = q_df['ID'].apply(lambda x: sum(eval(x)[3:]))"
   ]
  },
  {
   "cell_type": "code",
   "execution_count": null,
   "metadata": {},
   "outputs": [],
   "source": [
    "q_curve = q_df.copy()"
   ]
  },
  {
   "cell_type": "code",
   "execution_count": null,
   "metadata": {},
   "outputs": [],
   "source": [
    "q_curve[['HAND', 'MAX']] = q_curve[['HAND', 'MAX']].replace(0, np.NaN)\n",
    "\n",
    "q_mean = pd.Series(q_curve.iloc[:, 1:].groupby('HAND').mean()['MAX'])\n",
    "q_max  = pd.Series(q_curve.iloc[:, 1:].groupby('HAND').max()['MAX'])\n",
    "q_std  = pd.Series(q_curve.iloc[:, 1:].groupby('HAND').std()['MAX']) / 2"
   ]
  },
  {
   "cell_type": "code",
   "execution_count": null,
   "metadata": {},
   "outputs": [],
   "source": [
    "fig = plt.figure(1, figsize=(15,7))\n",
    "\n",
    "plt.plot(q_mean.index, q_mean, label='Mean', marker='o', color=purple)\n",
    "plt.plot(q_max.index,  q_max,  label='Max',  marker='o', color=orange)\n",
    "\n",
    "plt.fill_between(q_mean.index, q_mean - q_std, q_mean + q_std, alpha=1/5, color=purple, edgecolor=None)\n",
    "\n",
    "plt.xticks(q_mean.index)\n",
    "\n",
    "plt.xlabel('Number of Minimum Hand Cards')\n",
    "plt.ylabel('Q-Value')\n",
    "\n",
    "plt.title('Aggregated Q-Values')\n",
    "\n",
    "plt.legend()\n",
    "\n",
    "plt.show()"
   ]
  },
  {
   "cell_type": "code",
   "execution_count": null,
   "metadata": {},
   "outputs": [],
   "source": [
    "q_pivot = q_df.replace(0, np.NaN)\n",
    "q_pivot = q_pivot.drop(columns='MAX').iloc[:, 1:].groupby('HAND').mean()\n",
    "\n",
    "fig, ax = plt.subplots(1, 1, figsize = (15, 12))\n",
    "\n",
    "cmap_custom = LinearSegmentedColormap.from_list('custom', [purple, orange])\n",
    "\n",
    "sns.heatmap(q_pivot, \n",
    "            fmt='.2f', \n",
    "            linewidth = 0.3, \n",
    "            annot = True,\n",
    "            cbar = True,\n",
    "            cmap=cmap_custom,\n",
    "            square=True)\n",
    "\n",
    "ax.title.set_text('Visits')\n",
    "\n",
    "ax.set(xlabel='Move taken', ylabel='Hand Cards Playable')\n",
    "\n",
    "plt.show()"
   ]
  },
  {
   "cell_type": "markdown",
   "metadata": {},
   "source": [
    "### Strategy"
   ]
  },
  {
   "cell_type": "code",
   "execution_count": 3,
   "metadata": {},
   "outputs": [],
   "source": [
    "def get_df_range(df, min, max):\n",
    "    return df.iloc[min:max, :]"
   ]
  },
  {
   "cell_type": "code",
   "execution_count": 4,
   "metadata": {},
   "outputs": [],
   "source": [
    "def before_after_filter(riga):\n",
    "    for i in range(len(riga['Before'])):\n",
    "        if riga['Before'][i] >= riga['After'][i]:\n",
    "            continue\n",
    "        else:\n",
    "            return False\n",
    "    return True"
   ]
  },
  {
   "cell_type": "code",
   "execution_count": 5,
   "metadata": {},
   "outputs": [],
   "source": [
    "def before_certifications_filter(riga):\n",
    "    for i in range(5, 8):\n",
    "        if riga['Before'][i] == 1:\n",
    "            continue\n",
    "        else:\n",
    "            return False\n",
    "    return True"
   ]
  },
  {
   "cell_type": "code",
   "execution_count": 6,
   "metadata": {},
   "outputs": [],
   "source": [
    "def find_differences(before, after):\n",
    "    return [i for i, (card1, card2) in enumerate(zip(before, after)) if card1 != card2]"
   ]
  },
  {
   "cell_type": "code",
   "execution_count": 7,
   "metadata": {},
   "outputs": [],
   "source": [
    "def plot_strategy_heatmap(df):\n",
    "    heatmap_data = df.pivot(index='CERTIFICATION', columns='ZONE', values='Percentage')\n",
    "\n",
    "    zones_order = ['WHITE', 'YELLOW', 'ORANGE', 'RED']\n",
    "    certifications_order = ['RED', 'ORANGE', 'YELLOW']\n",
    "\n",
    "    heatmap_data = heatmap_data.loc[certifications_order, zones_order]\n",
    "\n",
    "    fig, ax = plt.subplots(1, 1, figsize = (10, 6))\n",
    "\n",
    "    sns.heatmap(heatmap_data,\n",
    "                linewidth = 5,\n",
    "                annot=True,\n",
    "                vmin=0,\n",
    "                vmax=1,\n",
    "                cmap='rocket_r',\n",
    "                cbar = True,\n",
    "                fmt='.0%',\n",
    "                square=True)\n",
    "\n",
    "    plt.show()"
   ]
  },
  {
   "cell_type": "code",
   "execution_count": 8,
   "metadata": {},
   "outputs": [],
   "source": [
    "def get_strategy_heatmap(df, min, max):\n",
    "    df = get_df_range(df, min, max)\n",
    "\n",
    "    df.loc[:, 'Before'] = df['Before'].apply(ast.literal_eval)\n",
    "    df.loc[:, 'After'] = df['After'].apply(ast.literal_eval)\n",
    "\n",
    "    df.loc[:, 'Before'] = df['Before'].apply(lambda x: x[3:11])\n",
    "    df.loc[:, 'After'] = df['After'].apply(lambda x: x[3:11])\n",
    "\n",
    "    df = df[df['Before'] != df['After']]\n",
    "\n",
    "    df = df[df.apply(before_after_filter, axis=1)]\n",
    "\n",
    "    df = df[df.apply(before_certifications_filter, axis=1)]\n",
    "\n",
    "    df['Differences'] = df.apply(lambda row: find_differences(row['Before'], row['After']), axis=1)\n",
    "\n",
    "    df = df[(df['Differences'].apply(len) > 1) & (df['Differences'].apply(len) < 3)]\n",
    "\n",
    "    df.loc[:, 'Differences'] = df['Differences'].apply(tuple)\n",
    "\n",
    "    df = pd.concat([df, df.iloc[[0]]], ignore_index=True)\n",
    "\n",
    "    df = pd.DataFrame(df.groupby('Differences').size()).reset_index(drop=False)\n",
    "\n",
    "    df.columns = ['Differences', 'Count']\n",
    "\n",
    "    df[['ZONE', 'CERTIFICATION']] = df['Differences'].apply(lambda x: pd.Series([x[0], x[1]]))\n",
    "\n",
    "    df.drop(columns=['Differences'], inplace=True)\n",
    "\n",
    "    df = df[df['ZONE'] < 4]\n",
    "    df = df[df['CERTIFICATION'] > 4]\n",
    "\n",
    "    state_seen_group = df.groupby('ZONE')['Count'].transform('sum')\n",
    "\n",
    "    df['Percentage'] = df['Count'] / state_seen_group\n",
    "\n",
    "    df.drop(columns=['Count'], inplace=True)\n",
    "\n",
    "    zones = {0: 'WHITE', 1: 'YELLOW', 2: 'ORANGE', 3: 'RED'}\n",
    "    certifications = {5: 'YELLOW', 6: 'ORANGE', 7: 'RED'}\n",
    "\n",
    "    df['ZONE'] = df['ZONE'].replace(zones)\n",
    "    df['CERTIFICATION'] = df['CERTIFICATION'].replace(certifications)\n",
    "\n",
    "    df.reset_index(drop=True, inplace=True)\n",
    "\n",
    "    print(len(df))\n",
    "\n",
    "    plot_strategy_heatmap(df)\n",
    "    \n",
    "    return df"
   ]
  },
  {
   "cell_type": "code",
   "execution_count": 9,
   "metadata": {},
   "outputs": [],
   "source": [
    "def generate_tuples(max, interval):\n",
    "    tuple_list = []\n",
    "    for i in range(0, max, interval):\n",
    "        tuple_list.append((i, min(i + interval, max)))\n",
    "    return tuple_list"
   ]
  },
  {
   "cell_type": "code",
   "execution_count": 10,
   "metadata": {},
   "outputs": [
    {
     "name": "stdout",
     "output_type": "stream",
     "text": [
      "42108\n",
      "9\n"
     ]
    },
    {
     "data": {
      "image/png": "[encoded data removed]",
      "text/plain": [
       "<Figure size 1000x600 with 2 Axes>"
      ]
     },
     "metadata": {},
     "output_type": "display_data"
    },
    {
     "name": "stdout",
     "output_type": "stream",
     "text": [
      "9\n"
     ]
    },
    {
     "data": {
      "image/png": "[encoded data removed]",
      "text/plain": [
       "<Figure size 1000x600 with 2 Axes>"
      ]
     },
     "metadata": {},
     "output_type": "display_data"
    },
    {
     "name": "stdout",
     "output_type": "stream",
     "text": [
      "9\n"
     ]
    },
    {
     "data": {
      "image/png": "[encoded data removed]",
      "text/plain": [
       "<Figure size 1000x600 with 2 Axes>"
      ]
     },
     "metadata": {},
     "output_type": "display_data"
    },
    {
     "name": "stdout",
     "output_type": "stream",
     "text": [
      "9\n"
     ]
    },
    {
     "data": {
      "image/png": "[encoded data removed]",
      "text/plain": [
       "<Figure size 1000x600 with 2 Axes>"
      ]
     },
     "metadata": {},
     "output_type": "display_data"
    },
    {
     "name": "stdout",
     "output_type": "stream",
     "text": [
      "9\n"
     ]
    },
    {
     "data": {
      "image/png": "[encoded data removed]",
      "text/plain": [
       "<Figure size 1000x600 with 2 Axes>"
      ]
     },
     "metadata": {},
     "output_type": "display_data"
    }
   ],
   "source": [
    "state_seen_df = pd.read_csv('../data/state_seen.csv')\n",
    "\n",
    "print(len(state_seen_df))\n",
    "\n",
    "tuple_list = generate_tuples(len(state_seen_df), 10000)\n",
    "for min_max in tuple_list:\n",
    "    df = get_strategy_heatmap(state_seen_df, min_max[0], min_max[1])"
   ]
  },
  {
   "cell_type": "code",
   "execution_count": 11,
   "metadata": {},
   "outputs": [
    {
     "name": "stdout",
     "output_type": "stream",
     "text": [
      "MoviePy - Building file ../img/strategy-heatmap.gif with imageio.\n"
     ]
    },
    {
     "name": "stderr",
     "output_type": "stream",
     "text": [
      "                                                                 \r"
     ]
    }
   ],
   "source": [
    "from moviepy.editor import ImageSequenceClip\n",
    "\n",
    "image_files = ['../img/strategy-heatmap-0.png', '../img/strategy-heatmap-1.png', '../img/strategy-heatmap-2.png', '../img/strategy-heatmap-3.png', '../img/strategy-heatmap-4.png']\n",
    "\n",
    "durations = [500] * 5\n",
    "\n",
    "clip = ImageSequenceClip(image_files, durations=durations)\n",
    "\n",
    "clip.write_gif('../img/strategy-heatmap.gif', fps=1)"
   ]
  }
 ],
 "metadata": {
  "kernelspec": {
   "display_name": "base",
   "language": "python",
   "name": "python3"
  },
  "language_info": {
   "codemirror_mode": {
    "name": "ipython",
    "version": 3
   },
   "file_extension": ".py",
   "mimetype": "text/x-python",
   "name": "python",
   "nbconvert_exporter": "python",
   "pygments_lexer": "ipython3",
   "version": "3.12.1"
  },
  "toc": {
   "base_numbering": 1,
   "nav_menu": {},
   "number_sections": true,
   "sideBar": false,
   "skip_h1_title": true,
   "title_cell": "Table of Contents",
   "title_sidebar": "Contents",
   "toc_cell": true,
   "toc_position": {},
   "toc_section_display": true,
   "toc_window_display": false
  },
  "vscode": {
   "interpreter": {
    "hash": "9816ba45970f25120ffa279bccf0a5c34e579beb7c4b1800832975b0e94d1fa8"
   }
  }
 },
 "nbformat": 4,
 "nbformat_minor": 4
}
